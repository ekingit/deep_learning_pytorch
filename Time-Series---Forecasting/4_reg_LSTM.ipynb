{
  "nbformat": 4,
  "nbformat_minor": 0,
  "metadata": {
    "colab": {
      "provenance": [],
      "authorship_tag": "ABX9TyPx9m5zi22xG5MLS07yXSyz",
      "include_colab_link": true
    },
    "kernelspec": {
      "name": "python3",
      "display_name": "Python 3"
    },
    "language_info": {
      "name": "python"
    }
  },
  "cells": [
    {
      "cell_type": "markdown",
      "metadata": {
        "id": "view-in-github",
        "colab_type": "text"
      },
      "source": [
        "<a href=\"https://colab.research.google.com/github/ekingit/DeepForecast/blob/main/4_reg_LSTM.ipynb\" target=\"_parent\"><img src=\"https://colab.research.google.com/assets/colab-badge.svg\" alt=\"Open In Colab\"/></a>"
      ]
    },
    {
      "cell_type": "code",
      "execution_count": 1,
      "metadata": {
        "id": "0JMR9kY2koCx",
        "colab": {
          "base_uri": "https://localhost:8080/"
        },
        "outputId": "d8f31d38-2135-49d8-e54f-9d572d1757fe"
      },
      "outputs": [
        {
          "output_type": "stream",
          "name": "stdout",
          "text": [
            "Mounted at /content/gdrive\n"
          ]
        }
      ],
      "source": [
        "import time\n",
        "import pandas as pd\n",
        "import matplotlib.pyplot as plt\n",
        "import torch\n",
        "from torch import nn\n",
        "from torch.utils.data import DataLoader, TensorDataset\n",
        "\n",
        "from google.colab import drive #connect to drive\n",
        "drive.mount('/content/gdrive')\n",
        "\n",
        "!cp /content/gdrive/MyDrive/Colab\\ Notebooks/weather_forecast/Data/data.py /content/data.py #copy data\n",
        "\n",
        "from data import Weather_Data"
      ]
    },
    {
      "cell_type": "code",
      "source": [
        "#params\n",
        "num_epochs = 500\n",
        "day_range = 21\n",
        "seq_len = 14\n",
        "lr = 1e-4\n",
        "batch_size = 32\n",
        "hidden_size = 64\n",
        "num_layers = 1"
      ],
      "metadata": {
        "id": "TWvY215ck4m8"
      },
      "execution_count": 16,
      "outputs": []
    },
    {
      "cell_type": "code",
      "source": [
        "nat_data = Weather_Data('/content/gdrive/MyDrive/Colab Notebooks/weather_forecast/Data/weather_prediction_dataset.csv','BASEL_temp_max')\n",
        "train_data = nat_data.train\n",
        "(in_train, out_train), (in_val, out_val), (in_test, out_test) = nat_data.data_chunks(21,0)\n",
        "ds_train = TensorDataset(in_train, out_train)\n",
        "ds_val = TensorDataset(in_val, out_val)\n",
        "ds_test = TensorDataset(in_test, out_test)\n",
        "\n",
        "dl_train = DataLoader(ds_train, batch_size=batch_size, shuffle=False) #(list(91),32,21)\n",
        "dl_val = DataLoader(ds_val, batch_size=batch_size, shuffle=False)\n",
        "dl_test = DataLoader(ds_test, batch_size=batch_size, shuffle=False)\n"
      ],
      "metadata": {
        "id": "fx_zJfR2kzvT"
      },
      "execution_count": 17,
      "outputs": []
    },
    {
      "cell_type": "code",
      "source": [
        "class ResBlock(nn.Module):\n",
        "    def __init__(self, input_size, output_size):\n",
        "        super().__init__()\n",
        "        self.norm1 = nn.LayerNorm(input_size)\n",
        "        self.lin1 = nn.Linear(input_size, input_size // 2)\n",
        "        self.norm2 = nn.LayerNorm(input_size // 2)\n",
        "        self.lin2 = nn.Linear(input_size // 2, output_size)\n",
        "        self.lin3 = nn.Linear(input_size, output_size)\n",
        "        self.act = nn.ELU()\n",
        "\n",
        "    def forward(self, X):\n",
        "        X = self.act(self.norm1(X))\n",
        "        res = self.lin3(X)\n",
        "        X = self.act(self.norm2(self.lin1(X)))\n",
        "        X = self.lin2(X)\n",
        "        return X + res"
      ],
      "metadata": {
        "id": "mCqVjyJHk-uz"
      },
      "execution_count": 18,
      "outputs": []
    },
    {
      "cell_type": "code",
      "source": [
        "class regularized_local_LSTM(nn.Module):\n",
        "    def __init__(self, seq_len, hidden_size, output_size):\n",
        "        super().__init__()\n",
        "        self.input_mlp = nn.Sequential(  # (input_size, seq_len)\n",
        "            nn.Linear(seq_len, 2 * seq_len), # --> (input_size,4*seq_len)\n",
        "            nn.ELU(),\n",
        "            nn.Linear(2 * seq_len, 64)) # --> (input_size,128)\n",
        "        #LSTM\n",
        "        self.lstm = nn.LSTM(64, hidden_size, num_layers=1)\n",
        "        #resblocks\n",
        "        blocks = ResBlock(64, 64)\n",
        "        self.blocks = nn.Sequential(blocks)\n",
        "        #output\n",
        "        self.out = nn.Linear(64, output_size)\n",
        "        self.act = nn.ELU()\n",
        "    def forward(self, X, H_in, c_in): #data(batch_size, seq_len) --> (batch_size,1)\n",
        "        X = X.squeeze(-1) #(batch_size, seq_len,1) --> (batch_size, seq_len)\n",
        "        X_vect = self.input_mlp(X).unsqueeze(0) #(batch_size, seq_len) --> (1,batch_size,128)\n",
        "        Y_hat, (H_out, c_out) = self.lstm(X_vect, (H_in, c_in)) #Y_hat.shape(1,batch_size,128)\n",
        "        X = self.act(self.blocks(Y_hat)).squeeze(0) #(1,batch_size,128) --> (batch_size,128)\n",
        "        X = self.out(X) # (batch_size,128) --> (batch_size,1)\n",
        "        return X, (H_out, c_out)"
      ],
      "metadata": {
        "id": "EJJzmZjqnKCa"
      },
      "execution_count": 19,
      "outputs": []
    },
    {
      "cell_type": "code",
      "source": [
        "#initialize model and opt\n",
        "device = 'cuda' if torch.cuda.is_available() else 'cpu'\n",
        "weather_lstm = regularized_local_LSTM(seq_len, hidden_size, 1)\n",
        "optimizer = torch.optim.Adam(weather_lstm.parameters(), lr=lr)\n",
        "mean_loss = nn.MSELoss(reduction='sum')\n",
        "train_loss = []"
      ],
      "metadata": {
        "id": "dxwzB6tFsDCf"
      },
      "execution_count": 20,
      "outputs": []
    },
    {
      "cell_type": "code",
      "source": [
        "# number of parameters\n",
        "# Compare: local_LSTM has 8500 parameters\n",
        "num_model_params = 0\n",
        "for param in weather_lstm.parameters():\n",
        "    num_model_params += param.flatten().shape[0]\n",
        "\n",
        "print(\"-This Model Has %d Parameters!\" % (num_model_params))"
      ],
      "metadata": {
        "colab": {
          "base_uri": "https://localhost:8080/"
        },
        "id": "ziNWoTWgzTMO",
        "outputId": "d9fc0f87-2adc-4bd2-dfdc-65e6226066aa"
      },
      "execution_count": 21,
      "outputs": [
        {
          "output_type": "stream",
          "name": "stdout",
          "text": [
            "-This Model Has 44165 Parameters!\n"
          ]
        }
      ]
    },
    {
      "cell_type": "code",
      "source": [
        "ind = -2\n",
        "save_model_path =f'/content/gdrive/MyDrive/Colab Notebooks/weather_forecast/Results/local/regularized_local_model.pth'\n",
        "train_loss_list = []\n",
        "val_loss_list = []\n",
        "test_loss_list = []\n",
        "a = time.time()\n",
        "best_val = 0.5\n",
        "for epoch in range(num_epochs):\n",
        "    weather_lstm.train()\n",
        "    weather_lstm.to(device)\n",
        "    train_loss = 0\n",
        "    for X, Y in dl_train:\n",
        "        X_in = X[:,:seq_len].to(device)\n",
        "        H = torch.zeros(1, X_in.shape[0], 64).to(device)\n",
        "        c = torch.zeros(1, X_in.shape[0], 64).to(device)\n",
        "        loss = 0\n",
        "        for i in range(day_range-seq_len):\n",
        "            Y = X[:,i+seq_len].to(device)\n",
        "            Y_hat, (H, c) = weather_lstm(X_in, H, c)\n",
        "            loss += mean_loss(Y_hat, Y)\n",
        "            X_in = torch.cat([X_in[:,1:].squeeze(-1),Y_hat.detach()],1).unsqueeze(-1)\n",
        "        optimizer.zero_grad()\n",
        "        loss.backward()\n",
        "        optimizer.step()\n",
        "        train_loss += loss.item()\n",
        "    train_loss = train_loss/(len(dl_train.dataset)*(day_range-seq_len))\n",
        "    train_loss_list.append(train_loss)\n",
        "    #val_loss\n",
        "    weather_lstm.eval()\n",
        "    val_loss = 0\n",
        "    for X, Y in dl_val:\n",
        "      X_in = X[:,:seq_len].to(device)\n",
        "      H = torch.zeros(1, X_in.shape[0], 64).to(device)\n",
        "      c = torch.zeros(1, X_in.shape[0], 64).to(device)\n",
        "      loss = 0\n",
        "      for i in range(day_range-seq_len):\n",
        "          target_seq_block = X[:,i+seq_len].to(device)\n",
        "          Y_hat, (H, c) = weather_lstm(X_in, H, c)\n",
        "          loss += mean_loss(Y_hat, target_seq_block)\n",
        "          X_in = torch.cat([X_in[:,1:].squeeze(-1),Y_hat.detach()],1).unsqueeze(-1)\n",
        "      val_loss += loss.item()\n",
        "    val_loss = val_loss/(len(dl_val.dataset)*(day_range-seq_len))\n",
        "    val_loss_list.append(val_loss)\n",
        "    #test loss\n",
        "    test_loss = 0\n",
        "    for X, Y in dl_test:\n",
        "      X_in = X[:,:seq_len].to(device)\n",
        "      H = torch.zeros(1, X_in.shape[0], 64).to(device)\n",
        "      c = torch.zeros(1, X_in.shape[0], 64).to(device)\n",
        "      loss = 0\n",
        "      for i in range(day_range-seq_len):\n",
        "          target_seq_block = X[:,i+seq_len].to(device)\n",
        "          Y_hat, (H, c) = weather_lstm(X_in, H, c)\n",
        "          loss += mean_loss(Y_hat, target_seq_block)\n",
        "          X_in = torch.cat([X_in[:,1:].squeeze(-1),Y_hat.detach()],1).unsqueeze(-1)\n",
        "      test_loss += loss.item()\n",
        "    test_loss = test_loss/(len(dl_test.dataset)*(day_range-seq_len))\n",
        "    test_loss_list.append(test_loss)\n",
        "    #save best loss\n",
        "    if val_loss < best_val:\n",
        "      best_val = val_loss\n",
        "      best_epoch = epoch\n",
        "      best_train = train_loss\n",
        "      best_test = test_loss\n",
        "      torch.save(weather_lstm.state_dict(), save_model_path)\n",
        "\n",
        "    if epoch % 10 == 0:\n",
        "        print(epoch, train_loss, val_loss, test_loss)\n",
        "b = time.time()"
      ],
      "metadata": {
        "id": "oBcDtG0Vvhgh",
        "colab": {
          "base_uri": "https://localhost:8080/"
        },
        "outputId": "bcb0b1d9-6d6b-4fe5-9f10-432365e7e523"
      },
      "execution_count": 25,
      "outputs": [
        {
          "output_type": "stream",
          "name": "stdout",
          "text": [
            "0 0.409239258202345 0.2638158987220115 0.2641499343733469\n",
            "10 0.2962611485644918 0.26185607437650393 0.24499806089897377\n",
            "20 0.28838222224235627 0.2572687166373066 0.24200400156388097\n",
            "30 0.2840089428972937 0.25400489032219303 0.2395005182822217\n",
            "40 0.28103203448158226 0.25175243286334414 0.23790369419693258\n",
            "50 0.27873744694186886 0.25018780532698315 0.23691287462028168\n",
            "60 0.27682559725171857 0.24910289250947934 0.23628133274522525\n",
            "70 0.2751374566274517 0.248432614604468 0.23596176443564607\n",
            "80 0.2735873640457969 0.24809788830707527 0.2358999197193653\n",
            "90 0.2721159898285276 0.24808301067273544 0.2360777740730519\n",
            "100 0.2706970483566394 0.24838190133861035 0.23647128009874893\n",
            "110 0.269314522934298 0.2489804536424128 0.2370334344890667\n",
            "120 0.26796120790746536 0.24983413469486251 0.23773419847181274\n",
            "130 0.2666305796630835 0.25088687616375044 0.23854228743435824\n",
            "140 0.265334784708777 0.25206817072546256 0.2394186393177086\n",
            "150 0.26408036036602656 0.25329684423671883 0.2403824032091287\n",
            "160 0.2628682602152553 0.25450303276937725 0.2414463603919838\n",
            "170 0.2616993010343383 0.25565270802681356 0.2426064961415298\n",
            "180 0.26057000107167566 0.25672760765774993 0.24385954229227283\n",
            "190 0.25947049345523693 0.25774609008965466 0.24518290361424894\n",
            "200 0.2583983799621816 0.258696054447593 0.24654518209342421\n",
            "210 0.2573423764010143 0.2595843827793364 0.2479273262937437\n",
            "220 0.25629262369284894 0.2604336207017339 0.2493302166511164\n",
            "230 0.25523840635794875 0.261250468347803 0.25074047809981986\n",
            "240 0.25417580209731866 0.26206398482759763 0.2521611567275963\n",
            "250 0.25310503972894716 0.2628971843262727 0.2535674034515557\n",
            "260 0.25202408449098423 0.2637444345740421 0.2549222541386977\n",
            "270 0.25092773619653014 0.2646215377417012 0.2562277295390601\n",
            "280 0.2498111184028069 0.2655216881699251 0.25749850725950435\n",
            "290 0.24866926236991585 0.2664605289525379 0.25874050937340737\n",
            "300 0.24748907843196652 0.26742462202303674 0.259978260509639\n",
            "310 0.24626252838297014 0.2684167488658851 0.26125442794686404\n",
            "320 0.24498516149240132 0.26944318120879246 0.26259968361511987\n",
            "330 0.24364633298218338 0.2704991341424717 0.26401153110847503\n",
            "340 0.24223647719001376 0.271573634505961 0.26550928016618497\n",
            "350 0.24074556771913383 0.27262692408164013 0.26711937064085\n",
            "360 0.23917029116864255 0.27362600778568685 0.2688514369268441\n",
            "370 0.23750860920874425 0.27455581110632193 0.2706608335209917\n",
            "380 0.23576731671026 0.2753739376682373 0.2725002641622731\n",
            "390 0.23396031711236973 0.27609335303208143 0.2743699682536547\n",
            "400 0.23210247804462011 0.27677006646683155 0.2762379902241941\n",
            "410 0.23022046069924235 0.27748057194527864 0.2781295713366407\n",
            "420 0.22832505848741771 0.278218761541743 0.28004688354290586\n",
            "430 0.22641062729469233 0.2790363919725111 0.28203789091228354\n",
            "440 0.2244831242758047 0.27994423794608586 0.284076574122384\n",
            "450 0.22254632713405756 0.28090977530947997 0.28615445484315727\n",
            "460 0.22059378389698603 0.281873682527676 0.2882567137159856\n",
            "470 0.21861263512508763 0.28287382306981734 0.290348870413644\n",
            "480 0.21660028851805704 0.2839058136565935 0.29240920226697975\n",
            "490 0.21455848570284064 0.28496433702212143 0.2944418106268104\n"
          ]
        }
      ]
    },
    {
      "cell_type": "code",
      "source": [
        "#write results to csv\n",
        "ind = -2\n",
        "results = {'model':'regularized_local_LSTM', 'seq_len':seq_len, 'hidden_size':hidden_size, 'num_layers':num_layers}\n",
        "results['run_time'] = b-a\n",
        "results['device'] = 'T4_GPU'\n",
        "results['best_epoch'] = best_epoch\n",
        "results['num_epoch'] = num_epochs\n",
        "results['test_loss'] = best_test\n",
        "results['val_loss'] = val_loss\n",
        "results['train_loss'] = best_train\n",
        "\n",
        "res_loc = '/content/gdrive/MyDrive/Colab Notebooks/weather_forecast/Results/local/Hyperparameter_Performance_Analysis.csv'\n",
        "df1 = pd.DataFrame(results, index=[ind])\n",
        "df1.to_csv(res_loc, mode='a', header=False)"
      ],
      "metadata": {
        "id": "4XPDfQIAeT9l"
      },
      "execution_count": 27,
      "outputs": []
    },
    {
      "cell_type": "code",
      "source": [
        "  #plot and save\n",
        "  save_plot_path = f'/content/gdrive/MyDrive/Colab Notebooks/weather_forecast/Results/local/plt{-2}.png'\n",
        "  train_loss_tens = torch.tensor(train_loss_list)\n",
        "  val_loss_tens = torch.tensor(val_loss_list)\n",
        "  plt.plot(train_loss_list,label='train')\n",
        "  plt.plot(val_loss_list,label='val')\n",
        "  plt.plot(test_loss_list,label='test')\n",
        "  plt.axvline(x=best_epoch, color='r', linestyle='--')\n",
        "  plt.title(f'seq_len={seq_len},hidden_size={hidden_size},num_layers={num_layers}')\n",
        "  plt.xlabel('epoch')\n",
        "  plt.ylabel('MSE')\n",
        "  plt.legend()\n",
        "  plt.savefig(save_plot_path)\n",
        "  plt.show()"
      ],
      "metadata": {
        "colab": {
          "base_uri": "https://localhost:8080/",
          "height": 472
        },
        "id": "7OAGmMW-e9x_",
        "outputId": "dec6024f-191e-4f72-e0ca-d1a21dda5084"
      },
      "execution_count": 28,
      "outputs": [
        {
          "output_type": "display_data",
          "data": {
            "text/plain": [
              "<Figure size 640x480 with 1 Axes>"
            ],
            "image/png": "[encoded data removed]"
          },
          "metadata": {}
        }
      ]
    }
  ]
}
