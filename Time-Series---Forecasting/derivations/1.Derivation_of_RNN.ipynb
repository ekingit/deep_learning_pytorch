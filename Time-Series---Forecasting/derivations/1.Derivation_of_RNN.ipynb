{
 "cells": [
  {
   "cell_type": "code",
   "execution_count": 1,
   "id": "3699c30c-6e90-4f16-83b4-1b50a84ead73",
   "metadata": {},
   "outputs": [],
   "source": [
    "import torch\n",
    "import torch.nn as nn"
   ]
  },
  {
   "cell_type": "markdown",
   "id": "da28de5f-0e5d-4e80-98e4-078d110cd25c",
   "metadata": {},
   "source": [
    "# Description"
   ]
  },
  {
   "cell_type": "markdown",
   "id": "213f1e9b-3ecb-4a7b-b437-1889bb61ecf5",
   "metadata": {},
   "source": [
    "Recurrent neural networks (RNNs) introduce the notion of a hidden state, similar to the hidden layers of multilayer perceptrons (MLPs). Let $X$ be an $n$-folded sequential data of dimension $k$ and length $T$. $n$ refers to the number of examples, $T$ is the sequence length and $k$ refers to the dimension of each datapoint in the sequence. For a scalar valued data such as weather, price etc. $d=1$. RNN is the set of following maps:\n",
    "\n",
    "1. Each element in the input sequence is embedded into a larger space $$X_t\\mapsto X_t W_{xh}^T$$\n",
    "by an embedding matrix $W_{xh}\\in\\mathbb{R}^{d \\times h}$. As one can perceive this space as a parameter space or configuration space, this operation amounts to parametrization of the sequence.\n",
    "\n",
    "2. Initialize a hidden state with $H_{-1}\\in\\mathbb{R}^{n\\times h}$ often with zeros. \n",
    "3. To capture the sequential relationship, multiply each element by a square matrix $W_{hh}\\in\\mathbb{R}^{h\\times h}$ recursively and sum with $X_t W_{xh}^T$\n",
    "4. Apply an activation function often (tanh) and define $t^{th}$ hidden state as $$H_t = \\tanh(X_{t} W_{xh}^T + H_{t-1} \\widetilde{W}_{hh}^T + b_h)$$\n",
    "\n",
    "At the end, the sequence of the hidden state is projected to a vector space of desired dimension $O_t = H_t W_{hr}^T+b_r$ where $W_{hr}\\in\\mathbb{R}^{h\\times r}$ If we work with scalar valued functions and would like to predict future values, $r=1$.\n"
   ]
  },
  {
   "attachments": {
    "77d67730-d2d5-413c-be38-3e351d12659b.png": {
     "image/png": "[encoded data removed]"
    }
   },
   "cell_type": "markdown",
   "id": "d1ddd442-6bc0-4c69-a956-cdc8336d2d85",
   "metadata": {},
   "source": [
    "![RNN-1.png](attachment:77d67730-d2d5-413c-be38-3e351d12659b.png)"
   ]
  },
  {
   "cell_type": "markdown",
   "id": "f0043dfe-52f2-43b6-835b-85542769bf6e",
   "metadata": {},
   "source": [
    "# nn.RNN from Scratch"
   ]
  },
  {
   "cell_type": "markdown",
   "id": "026d82ea-1182-46da-ad21-4d74d79af2a3",
   "metadata": {},
   "source": [
    "## num_layers=1"
   ]
  },
  {
   "cell_type": "markdown",
   "id": "614dc0ac-d45f-4e7c-9f98-e1f7dc0ed9ae",
   "metadata": {},
   "source": [
    "Define RNN from scratch and compare it with nn.RNN from pytorch library. We ignore bias terms for simplicity."
   ]
  },
  {
   "cell_type": "code",
   "execution_count": 2,
   "id": "2e22a3b3-31d9-4499-b28d-144970669d26",
   "metadata": {},
   "outputs": [],
   "source": [
    "def RNN_scratch(X, H, W_xh, W_hh):\n",
    "    out_scratch = []\n",
    "    for i in range(len(X)):\n",
    "        H = torch.tanh(torch.matmul(X[i],W_xh)+torch.matmul(H,W_hh))\n",
    "        out_scratch.append(H)\n",
    "    out_scratch = torch.stack(out_scratch).reshape(len(X),len(W_hh))\n",
    "    return out_scratch, H"
   ]
  },
  {
   "cell_type": "code",
   "execution_count": 3,
   "id": "8228a0bc-e429-41b7-8c87-cd70f68aadf4",
   "metadata": {},
   "outputs": [
    {
     "name": "stdout",
     "output_type": "stream",
     "text": [
      "input shape: torch.Size([1000, 1]), output shape: torch.Size([1000, 3]), hidden state shape: torch.Size([1, 3])\n"
     ]
    }
   ],
   "source": [
    "X = torch.randn(1000,1)\n",
    "H_in = torch.zeros(1,3)\n",
    "my_RNN = nn.RNN(1,3,bias=False)\n",
    "out, H_out = my_RNN(X, H_in)\n",
    "print(f\"input shape: {X.shape}, output shape: {out.shape}, hidden state shape: {H_out.shape}\")"
   ]
  },
  {
   "cell_type": "code",
   "execution_count": 4,
   "id": "4df6d1e9-8db5-4d76-b0ea-35560a6a126b",
   "metadata": {},
   "outputs": [
    {
     "data": {
      "text/plain": [
       "[Parameter containing:\n",
       " tensor([[0.4546],\n",
       "         [0.3119],\n",
       "         [0.4899]], requires_grad=True),\n",
       " Parameter containing:\n",
       " tensor([[-0.4554, -0.4969,  0.5397],\n",
       "         [-0.2188,  0.4026, -0.4456],\n",
       "         [ 0.2713, -0.4530, -0.2177]], requires_grad=True)]"
      ]
     },
     "execution_count": 4,
     "metadata": {},
     "output_type": "execute_result"
    }
   ],
   "source": [
    "all_params = list(my_RNN.parameters())\n",
    "W_t = all_params[0].detach().transpose(0,1)\n",
    "W_Bar_t = all_params[1].detach().transpose(0,1)\n",
    "all_params"
   ]
  },
  {
   "cell_type": "code",
   "execution_count": 5,
   "id": "3e685a0a-4e7d-4707-afc6-363b8c46e449",
   "metadata": {},
   "outputs": [],
   "source": [
    "out_scratch, H_out_scratch = RNN_scratch(X, H_in, W_t, W_Bar_t)"
   ]
  },
  {
   "cell_type": "code",
   "execution_count": 6,
   "id": "458273a9-2f3f-4442-95f9-dd751d950be4",
   "metadata": {},
   "outputs": [
    {
     "data": {
      "text/plain": [
       "(True, True)"
      ]
     },
     "execution_count": 6,
     "metadata": {},
     "output_type": "execute_result"
    }
   ],
   "source": [
    "torch.allclose(out,out_scratch), torch.allclose(H_out, H_out_scratch) "
   ]
  },
  {
   "cell_type": "markdown",
   "id": "8b6d7448-bf11-482b-b130-6af7f668b387",
   "metadata": {},
   "source": [
    "Our function `RNN_scratch` gives the same result as `nn.RNN`, which is faster since it uses compiled operators. To predict future values, we use a linear layer to project the hidden state to the output. Let's implement this and compare it with the `nn.Linear` operator."
   ]
  },
  {
   "cell_type": "code",
   "execution_count": 7,
   "id": "6b3eb85f-3ca9-49c7-9ffa-3a5f90c442d5",
   "metadata": {},
   "outputs": [],
   "source": [
    "def lin_scratch(X, W_hr):\n",
    "    out_scratch = []\n",
    "    for i in range(len(X)):\n",
    "        output = torch.matmul(X[i],W_hr)\n",
    "        out_scratch.append(output)\n",
    "    out_scratch = torch.stack(out_scratch)\n",
    "    return out_scratch"
   ]
  },
  {
   "cell_type": "code",
   "execution_count": 8,
   "id": "f6c8943e-a9d1-4d15-bc01-ad37defe6c60",
   "metadata": {},
   "outputs": [],
   "source": [
    "my_lin = nn.Linear(3,1,bias=False)\n",
    "lin_out = my_lin(out_scratch)\n",
    "my_params = list(my_lin.parameters())\n",
    "W = my_params[0].detach().transpose(0,1)"
   ]
  },
  {
   "cell_type": "code",
   "execution_count": 9,
   "id": "fd8f2eca-b9ca-4297-8ec5-f8caed9c4c87",
   "metadata": {},
   "outputs": [
    {
     "data": {
      "text/plain": [
       "True"
      ]
     },
     "execution_count": 9,
     "metadata": {},
     "output_type": "execute_result"
    }
   ],
   "source": [
    "lin_scratch_out = lin_scratch(out_scratch,W)\n",
    "torch.allclose(lin_scratch_out, lin_out)"
   ]
  },
  {
   "cell_type": "markdown",
   "id": "710d1fc7-60b8-4dea-822f-bd0303f1a202",
   "metadata": {},
   "source": [
    "## num_layers = n"
   ]
  },
  {
   "cell_type": "markdown",
   "id": "d289a4fe-426f-4801-909a-71535db57aae",
   "metadata": {},
   "source": [
    "For more complex sequential data, we often need multilayer hidden states, which correspond to the successive application of RNNs to the data. This allows us to capture more abstract dependencies and can help in understanding the hierarchy of dependencies in the data.\n",
    "\n",
    "Similar to what we have done for a single layer, here, we will create an $n$-layer RNN and compare it with `nn.RNN`."
   ]
  },
  {
   "cell_type": "markdown",
   "id": "7b7556db-0fed-4936-bffa-4573632e19f4",
   "metadata": {},
   "source": [
    "![multilayer d2l](https://d2l.ai/_images/deep-rnn.svg)"
   ]
  },
  {
   "cell_type": "code",
   "execution_count": 10,
   "id": "9bf332b5-e79e-4526-9f23-6b77ee38113d",
   "metadata": {},
   "outputs": [],
   "source": [
    "def RNN_scratch_multi_layer(X,params,H_in,hidden_layers=1):\n",
    "    H_out = []\n",
    "    layers = [X]\n",
    "    for i in range(hidden_layers):\n",
    "        H = H_in[i]\n",
    "        X = layers[i]\n",
    "        W_t = params[2*i].detach().transpose(0,1)\n",
    "        W_bar_t = params[2* i+1].detach().transpose(0,1)\n",
    "        a,b = RNN_scratch(X,H,W_t,W_bar_t)\n",
    "        layers.append(a)\n",
    "        H_out.append(b)\n",
    "    output = layers[-1]\n",
    "    H_out_tens = torch.stack(H_out)\n",
    "    return output, H_out_tens"
   ]
  },
  {
   "cell_type": "code",
   "execution_count": 11,
   "id": "4ff588e8-b3d4-40d7-b6c8-b03935956b91",
   "metadata": {},
   "outputs": [
    {
     "name": "stdout",
     "output_type": "stream",
     "text": [
      "output shape: torch.Size([1000, 3]) hidden state shape: torch.Size([2, 3])\n"
     ]
    }
   ],
   "source": [
    "X = torch.randn(1000,1)\n",
    "H_in = torch.zeros(2,3)\n",
    "my_RNN = nn.RNN(1,3,2,bias=False)\n",
    "out, H_out = my_RNN(X, H_in)\n",
    "print(f\"output shape: {out.shape} hidden state shape: {H_in.shape}\")"
   ]
  },
  {
   "cell_type": "code",
   "execution_count": 12,
   "id": "c6fe5f15-2b89-4bc2-bdc9-78bc4ff194d6",
   "metadata": {},
   "outputs": [
    {
     "data": {
      "text/plain": [
       "(torch.Size([1000, 3]), torch.Size([2, 3]))"
      ]
     },
     "execution_count": 12,
     "metadata": {},
     "output_type": "execute_result"
    }
   ],
   "source": [
    "out, H_out\n",
    "out.shape, H_out.shape"
   ]
  },
  {
   "cell_type": "code",
   "execution_count": 13,
   "id": "70b49e08-076a-48b7-8283-f4fbfc6346ed",
   "metadata": {},
   "outputs": [],
   "source": [
    "my_params = (list(my_RNN.parameters()))"
   ]
  },
  {
   "cell_type": "code",
   "execution_count": 14,
   "id": "a7ee59fd-5a0c-45aa-b8a6-dc1083256768",
   "metadata": {},
   "outputs": [
    {
     "data": {
      "text/plain": [
       "(True, True)"
      ]
     },
     "execution_count": 14,
     "metadata": {},
     "output_type": "execute_result"
    }
   ],
   "source": [
    "a,b = RNN_scratch_multi_layer(X,my_params,H_in,2)\n",
    "torch.allclose(out,a), torch.allclose(H_out,b)"
   ]
  },
  {
   "cell_type": "code",
   "execution_count": null,
   "id": "c5f3581b-56fb-4349-8033-09431c48fd98",
   "metadata": {},
   "outputs": [],
   "source": []
  }
 ],
 "metadata": {
  "kernelspec": {
   "display_name": "Python 3 (ipykernel)",
   "language": "python",
   "name": "python3"
  },
  "language_info": {
   "codemirror_mode": {
    "name": "ipython",
    "version": 3
   },
   "file_extension": ".py",
   "mimetype": "text/x-python",
   "name": "python",
   "nbconvert_exporter": "python",
   "pygments_lexer": "ipython3",
   "version": "3.12.2"
  }
 },
 "nbformat": 4,
 "nbformat_minor": 5
}
